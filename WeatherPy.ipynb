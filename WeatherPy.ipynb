{
 "cells": [
  {
   "cell_type": "markdown",
   "metadata": {},
   "source": [
    "# WeatherPy\n",
    "----\n",
    "\n",
    "#### Note\n",
    "* Instructions have been included for each segment. You do not have to follow them exactly, but they are included to help you think through the steps."
   ]
  },
  {
   "cell_type": "markdown",
   "metadata": {},
   "source": []
  },
  {
   "cell_type": "code",
   "execution_count": 1,
   "metadata": {
    "scrolled": true
   },
   "outputs": [],
   "source": [
    "# Dependencies and Setup\n",
    "import matplotlib.pyplot as plt\n",
    "import pandas as pd\n",
    "import numpy as np\n",
    "import requests\n",
    "import time\n",
    "from scipy.stats import linregress\n",
    "\n",
    "# Import API key\n",
    "from api_keys import weather_api_key\n",
    "\n",
    "# Incorporated citipy to determine city based on latitude and longitude\n",
    "from citipy import citipy\n",
    "\n",
    "# Output File (CSV)\n",
    "output_data_file = \"output_data/cities.csv\"\n",
    "\n",
    "# Range of latitudes and longitudes\n",
    "lat_range = (-90, 90)\n",
    "lng_range = (-180, 180)"
   ]
  },
  {
   "cell_type": "markdown",
   "metadata": {},
   "source": [
    "## Generate Cities List"
   ]
  },
  {
   "cell_type": "code",
   "execution_count": 2,
   "metadata": {},
   "outputs": [
    {
     "data": {
      "text/plain": [
       "616"
      ]
     },
     "execution_count": 2,
     "metadata": {},
     "output_type": "execute_result"
    }
   ],
   "source": [
    "# List for holding lat_lngs and cities\n",
    "lat_lngs = []\n",
    "cities = []\n",
    "\n",
    "# Create a set of random lat and lng combinations\n",
    "lats = np.random.uniform(lat_range[0], lat_range[1], size=1500)\n",
    "lngs = np.random.uniform(lng_range[0], lng_range[1], size=1500)\n",
    "lat_lngs = zip(lats, lngs)\n",
    "\n",
    "# Identify nearest city for each lat, lng combination\n",
    "for lat_lng in lat_lngs:\n",
    "    city = citipy.nearest_city(lat_lng[0], lat_lng[1]).city_name\n",
    "    \n",
    "    # If the city is unique, then add it to a our cities list\n",
    "    if city not in cities:\n",
    "        cities.append(city)\n",
    "\n",
    "# Print the city count to confirm sufficient count\n",
    "len(cities)"
   ]
  },
  {
   "cell_type": "code",
   "execution_count": 4,
   "metadata": {},
   "outputs": [
    {
     "name": "stdout",
     "output_type": "stream",
     "text": [
      "buta\n"
     ]
    }
   ],
   "source": [
    "print(city)"
   ]
  },
  {
   "cell_type": "markdown",
   "metadata": {},
   "source": [
    "### Perform API Calls\n",
    "* Perform a weather check on each city using a series of successive API calls.\n",
    "* Include a print log of each city as it's being processed (with the city number and city name).\n"
   ]
  },
  {
   "cell_type": "code",
   "execution_count": null,
   "metadata": {
    "scrolled": true
   },
   "outputs": [
    {
     "name": "stdout",
     "output_type": "stream",
     "text": [
      "Processing record #1: lompoc\n",
      "Processing record #2: chapais\n",
      "Processing record #3: pangnirtung\n",
      "Processing record #4: okhotsk\n",
      "Processing record #5: voznesenskaya\n",
      "Processing record #6: hilo\n",
      "Processing record #7: khandyga\n",
      "Processing record #8: quatre cocos\n",
      "Processing record #9: solntsevo\n",
      "Processing record #10: sawakin\n",
      "Processing record #11: tual\n",
      "Processing record #12: oranjemund\n",
      "Processing record #13: faanui\n",
      "Processing record #14: bethel\n",
      "Processing record #15: illapel\n",
      "Processing record #16: hobart\n",
      "Processing record #17: carnarvon\n",
      "Processing record #18: shubarshi\n",
      "Processing record #19: marfino\n",
      "Processing record #20: kirakira\n",
      "Processing record #21: ushuaia\n",
      "Processing record #22: kodiak\n",
      "Processing record #23: dawlatabad\n",
      "Processing record #24: rikitea\n",
      "Processing record #25: georgetown\n",
      "Processing record #26: avarua\n",
      "Processing record #27: qaanaaq\n",
      "Processing record #28: dikson\n",
      "Processing record #29: kenitra\n",
      "Processing record #30: sola\n",
      "Processing record #31: puerto ayora\n",
      "Processing record #32: saldanha\n",
      "Processing record #33: lasa\n",
      "Processing record #34: albany\n",
      "Processing record #35: skibbereen\n",
      "Processing record #36: muzhi\n",
      "Processing record #37: saint george\n",
      "Processing record #38: kapaa\n",
      "Processing record #39: illoqqortoormiut not found...\n",
      "Processing record #40: mandera\n",
      "Processing record #41: mys shmidta not found...\n",
      "Processing record #42: kaitangata\n",
      "Processing record #43: yellowknife\n",
      "Processing record #44: bredasdorp\n",
      "Processing record #45: virden\n",
      "Processing record #46: ndele\n",
      "Processing record #47: taolanaro not found...\n",
      "Processing record #48: tsihombe not found...\n",
      "Processing record #49: sterling\n",
      "Processing record #50: mamallapuram\n",
      "Processing record #51: adre\n",
      "Processing record #52: hermanus\n",
      "Processing record #53: egvekinot\n",
      "Processing record #54: la libertad\n",
      "Processing record #55: amderma not found...\n",
      "Processing record #56: saleaula not found...\n",
      "Processing record #57: barrow\n",
      "Processing record #58: pithoro\n",
      "Processing record #59: mergui not found...\n",
      "Processing record #60: port blair\n",
      "Processing record #61: saskylakh\n",
      "Processing record #62: butaritari\n",
      "Processing record #63: saint-paul\n",
      "Processing record #64: mataura\n",
      "Processing record #65: kavieng\n",
      "Processing record #66: gorontalo\n",
      "Processing record #67: thompson\n",
      "Processing record #68: hue\n",
      "Processing record #69: hithadhoo\n",
      "Processing record #70: victoria\n",
      "Processing record #71: busselton\n",
      "Processing record #72: constitucion\n",
      "Processing record #73: ribeira grande\n",
      "Processing record #74: talnakh\n",
      "Processing record #75: karkaralinsk not found...\n",
      "Processing record #76: miguel auza\n",
      "Processing record #77: cape town\n",
      "Processing record #78: sao fidelis\n",
      "Processing record #79: korla\n",
      "Processing record #80: fort payne\n",
      "Processing record #81: xining\n",
      "Processing record #82: pevek\n",
      "Processing record #83: atuona\n",
      "Processing record #84: port alfred\n",
      "Processing record #85: alto araguaia\n",
      "Processing record #86: ancud\n",
      "Processing record #87: saint-pierre\n",
      "Processing record #88: merritt island\n",
      "Processing record #89: sapa\n",
      "Processing record #90: castro\n",
      "Processing record #91: hofn\n",
      "Processing record #92: saint-joseph\n",
      "Processing record #93: ossora\n",
      "Processing record #94: punta arenas\n",
      "Processing record #95: lebu\n",
      "Processing record #96: kutum\n",
      "Processing record #97: bluff\n",
      "Processing record #98: new norfolk\n",
      "Processing record #99: berlevag\n",
      "Processing record #100: agalteca\n",
      "Processing record #101: henties bay\n",
      "Processing record #102: port hardy\n",
      "Processing record #103: yerbogachen\n",
      "Processing record #104: virtsu\n",
      "Processing record #105: berga\n",
      "Processing record #106: port elizabeth\n",
      "Processing record #107: coquimbo\n",
      "Processing record #108: vaini\n",
      "Processing record #109: maykain not found...\n",
      "Processing record #110: villazon\n",
      "Processing record #111: atar\n",
      "Processing record #112: finnsnes\n",
      "Processing record #113: boma\n",
      "Processing record #114: tougan\n",
      "Processing record #115: chokurdakh\n",
      "Processing record #116: provideniya\n",
      "Processing record #117: luangwa\n",
      "Processing record #118: maracas\n",
      "Processing record #119: nanortalik\n",
      "Processing record #120: artyom\n",
      "Processing record #121: teguldet\n",
      "Processing record #122: vigrestad\n",
      "Processing record #123: urozhaynoye\n",
      "Processing record #124: noumea\n",
      "Processing record #125: tuktoyaktuk\n",
      "Processing record #126: mahebourg\n",
      "Processing record #127: akcakoca\n",
      "Processing record #128: qaqortoq\n",
      "Processing record #129: wahiawa\n",
      "Processing record #130: salalah\n",
      "Processing record #131: ekibastuz\n",
      "Processing record #132: tuatapere\n",
      "Processing record #133: cabo san lucas\n",
      "Processing record #134: pestovo\n",
      "Processing record #135: naze\n",
      "Processing record #136: senador jose porfirio\n",
      "Processing record #137: meyungs not found...\n",
      "Processing record #138: mar del plata\n",
      "Processing record #139: haines junction\n",
      "Processing record #140: harper\n",
      "Processing record #141: plovdiv\n",
      "Processing record #142: lahaina\n",
      "Processing record #143: sao joao da barra\n",
      "Processing record #144: santa elena\n",
      "Processing record #145: saint-philippe\n",
      "Processing record #146: fallon\n",
      "Processing record #147: kungurtug\n",
      "Processing record #148: severo-kurilsk\n",
      "Processing record #149: sakakah\n",
      "Processing record #150: jamestown\n",
      "Processing record #151: attawapiskat not found...\n",
      "Processing record #152: samusu not found...\n",
      "Processing record #153: takoradi\n",
      "Processing record #154: flinders\n",
      "Processing record #155: golspie\n",
      "Processing record #156: san jose\n",
      "Processing record #157: sungaipenuh\n",
      "Processing record #158: luderitz\n",
      "Processing record #159: upata\n",
      "Processing record #160: pitimbu\n",
      "Processing record #161: grindavik\n",
      "Processing record #162: vardo\n",
      "Processing record #163: oneonta\n",
      "Processing record #164: kyra\n",
      "Processing record #165: wawa\n",
      "Processing record #166: tapes\n",
      "Processing record #167: terrasini\n",
      "Processing record #168: kavaratti\n",
      "Processing record #169: port-de-paix not found...\n",
      "Processing record #170: muroto\n",
      "Processing record #171: arraial do cabo\n",
      "Processing record #172: belushya guba not found...\n",
      "Processing record #173: santa rosa\n"
     ]
    }
   ],
   "source": [
    "base_url = f\"https://api.openweathermap.org/data/2.5/weather?units=imperial&\"\n",
    "\n",
    "# define empty lists to store city's data\n",
    "city_name = []\n",
    "cloudiness = []\n",
    "country_name = []\n",
    "date = []\n",
    "humidity = []\n",
    "latitude = []\n",
    "longitude = []\n",
    "max_temp = []\n",
    "wind_speed = []\n",
    "\n",
    "# iterate through 'cities' and initiate query\n",
    "# (https://stackoverflow.com/questions/522563/accessing-the-index-in-for-loops)\n",
    "for index, city in enumerate(cities, start=1):\n",
    "    city = city \n",
    "    query_url = base_url + f\"appid={weather_api_key}&q=\" + city\n",
    "    response = requests.get(query_url).json()\n",
    "    \n",
    "    # try/except in case 'city' isn't found\n",
    "    try:\n",
    "        city_name.append(response[\"name\"])\n",
    "        cloudiness.append(response[\"clouds\"][\"all\"])\n",
    "        country_name.append(response[\"sys\"][\"country\"])\n",
    "        date.append(response[\"dt\"])\n",
    "        humidity.append(response[\"main\"][\"humidity\"])\n",
    "        latitude.append(response[\"coord\"][\"lat\"])\n",
    "        longitude.append(response[\"coord\"][\"lon\"])\n",
    "        max_temp.append(response[\"main\"][\"temp_max\"])\n",
    "        wind_speed.append(response[\"wind\"][\"speed\"])\n",
    "        \n",
    "        print(f\"Processing record #{index}: {city}\")\n",
    "        \n",
    "    # if 'city' isn't found\n",
    "    except KeyError:\n",
    "        print(f\"Processing record #{index}: {city} not found...\")\n",
    "    "
   ]
  },
  {
   "cell_type": "markdown",
   "metadata": {},
   "source": [
    "### Convert Raw Data to DataFrame\n",
    "* Export the city data into a .csv.\n",
    "* Display the DataFrame"
   ]
  },
  {
   "cell_type": "code",
   "execution_count": null,
   "metadata": {},
   "outputs": [],
   "source": []
  },
  {
   "cell_type": "code",
   "execution_count": null,
   "metadata": {},
   "outputs": [],
   "source": []
  },
  {
   "cell_type": "markdown",
   "metadata": {},
   "source": [
    "## Inspect the data and remove the cities where the humidity > 100%.\n",
    "----\n",
    "Skip this step if there are no cities that have humidity > 100%. "
   ]
  },
  {
   "cell_type": "code",
   "execution_count": null,
   "metadata": {},
   "outputs": [],
   "source": []
  },
  {
   "cell_type": "code",
   "execution_count": null,
   "metadata": {},
   "outputs": [],
   "source": [
    "#  Get the indices of cities that have humidity over 100%.\n"
   ]
  },
  {
   "cell_type": "code",
   "execution_count": null,
   "metadata": {},
   "outputs": [],
   "source": [
    "# Make a new DataFrame equal to the city data to drop all humidity outliers by index.\n",
    "# Passing \"inplace=False\" will make a copy of the city_data DataFrame, which we call \"clean_city_data\".\n"
   ]
  },
  {
   "cell_type": "code",
   "execution_count": null,
   "metadata": {},
   "outputs": [],
   "source": [
    "\n"
   ]
  },
  {
   "cell_type": "markdown",
   "metadata": {},
   "source": [
    "## Plotting the Data\n",
    "* Use proper labeling of the plots using plot titles (including date of analysis) and axes labels.\n",
    "* Save the plotted figures as .pngs."
   ]
  },
  {
   "cell_type": "markdown",
   "metadata": {},
   "source": [
    "## Latitude vs. Temperature Plot"
   ]
  },
  {
   "cell_type": "code",
   "execution_count": null,
   "metadata": {
    "scrolled": true
   },
   "outputs": [],
   "source": []
  },
  {
   "cell_type": "markdown",
   "metadata": {},
   "source": [
    "## Latitude vs. Humidity Plot"
   ]
  },
  {
   "cell_type": "code",
   "execution_count": null,
   "metadata": {},
   "outputs": [],
   "source": []
  },
  {
   "cell_type": "markdown",
   "metadata": {},
   "source": [
    "## Latitude vs. Cloudiness Plot"
   ]
  },
  {
   "cell_type": "code",
   "execution_count": null,
   "metadata": {},
   "outputs": [],
   "source": []
  },
  {
   "cell_type": "markdown",
   "metadata": {},
   "source": [
    "## Latitude vs. Wind Speed Plot"
   ]
  },
  {
   "cell_type": "code",
   "execution_count": null,
   "metadata": {},
   "outputs": [],
   "source": []
  },
  {
   "cell_type": "markdown",
   "metadata": {},
   "source": [
    "## Linear Regression"
   ]
  },
  {
   "cell_type": "code",
   "execution_count": null,
   "metadata": {},
   "outputs": [],
   "source": []
  },
  {
   "cell_type": "markdown",
   "metadata": {},
   "source": [
    "####  Northern Hemisphere - Max Temp vs. Latitude Linear Regression"
   ]
  },
  {
   "cell_type": "code",
   "execution_count": null,
   "metadata": {},
   "outputs": [],
   "source": []
  },
  {
   "cell_type": "markdown",
   "metadata": {},
   "source": [
    "####  Southern Hemisphere - Max Temp vs. Latitude Linear Regression"
   ]
  },
  {
   "cell_type": "code",
   "execution_count": null,
   "metadata": {},
   "outputs": [],
   "source": []
  },
  {
   "cell_type": "markdown",
   "metadata": {},
   "source": [
    "####  Northern Hemisphere - Humidity (%) vs. Latitude Linear Regression"
   ]
  },
  {
   "cell_type": "code",
   "execution_count": null,
   "metadata": {},
   "outputs": [],
   "source": []
  },
  {
   "cell_type": "markdown",
   "metadata": {},
   "source": [
    "####  Southern Hemisphere - Humidity (%) vs. Latitude Linear Regression"
   ]
  },
  {
   "cell_type": "code",
   "execution_count": null,
   "metadata": {},
   "outputs": [],
   "source": []
  },
  {
   "cell_type": "markdown",
   "metadata": {},
   "source": [
    "####  Northern Hemisphere - Cloudiness (%) vs. Latitude Linear Regression"
   ]
  },
  {
   "cell_type": "code",
   "execution_count": null,
   "metadata": {},
   "outputs": [],
   "source": []
  },
  {
   "cell_type": "markdown",
   "metadata": {},
   "source": [
    "####  Southern Hemisphere - Cloudiness (%) vs. Latitude Linear Regression"
   ]
  },
  {
   "cell_type": "code",
   "execution_count": null,
   "metadata": {},
   "outputs": [],
   "source": []
  },
  {
   "cell_type": "markdown",
   "metadata": {},
   "source": [
    "####  Northern Hemisphere - Wind Speed (mph) vs. Latitude Linear Regression"
   ]
  },
  {
   "cell_type": "code",
   "execution_count": null,
   "metadata": {},
   "outputs": [],
   "source": []
  },
  {
   "cell_type": "markdown",
   "metadata": {},
   "source": [
    "####  Southern Hemisphere - Wind Speed (mph) vs. Latitude Linear Regression"
   ]
  },
  {
   "cell_type": "code",
   "execution_count": null,
   "metadata": {},
   "outputs": [],
   "source": []
  },
  {
   "cell_type": "code",
   "execution_count": null,
   "metadata": {},
   "outputs": [],
   "source": []
  }
 ],
 "metadata": {
  "anaconda-cloud": {},
  "kernel_info": {
   "name": "python3"
  },
  "kernelspec": {
   "display_name": "Python [conda env:PythonData]",
   "language": "python",
   "name": "conda-env-PythonData-py"
  },
  "language_info": {
   "codemirror_mode": {
    "name": "ipython",
    "version": 3
   },
   "file_extension": ".py",
   "mimetype": "text/x-python",
   "name": "python",
   "nbconvert_exporter": "python",
   "pygments_lexer": "ipython3",
   "version": "3.9.7"
  },
  "latex_envs": {
   "LaTeX_envs_menu_present": true,
   "autoclose": false,
   "autocomplete": true,
   "bibliofile": "biblio.bib",
   "cite_by": "apalike",
   "current_citInitial": 1,
   "eqLabelWithNumbers": true,
   "eqNumInitial": 1,
   "hotkeys": {
    "equation": "Ctrl-E",
    "itemize": "Ctrl-I"
   },
   "labels_anchors": false,
   "latex_user_defs": false,
   "report_style_numbering": false,
   "user_envs_cfg": false
  },
  "nteract": {
   "version": "0.12.3"
  }
 },
 "nbformat": 4,
 "nbformat_minor": 2
}
